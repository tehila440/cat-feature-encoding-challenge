{
 "cells": [
  {
   "cell_type": "markdown",
   "metadata": {},
   "source": [
    "# Kaggle Categorical Feature Competition <br>\n",
    "The competition is setup to practice skills working with binary, ordinal, and nominal data."
   ]
  },
  {
   "cell_type": "code",
   "execution_count": 1,
   "metadata": {
    "_cell_guid": "b1076dfc-b9ad-4769-8c92-a6c4dae69d19",
    "_uuid": "8f2839f25d086af736a60e9eeb907d3b93b6e0e5"
   },
   "outputs": [],
   "source": [
    "# This Python 3 environment comes with many helpful analytics libraries installed\n",
    "# It is defined by the kaggle/python docker image: https://github.com/kaggle/docker-python\n",
    "# For example, here's several helpful packages to load in \n",
    "\n",
    "import numpy as np # linear algebra\n",
    "import pandas as pd # data processing, CSV file I/O (e.g. pd.read_csv)\n",
    "\n",
    "# Input data files are available in the \"../input/\" directory.\n",
    "# For example, running this (by clicking run or pressing Shift+Enter) will list all files under the input directory\n",
    "\n",
    "import os\n",
    "for dirname, _, filenames in os.walk('/kaggle/input'):\n",
    "    for filename in filenames:\n",
    "        print(os.path.join(dirname, filename))\n",
    "\n",
    "# Any results you write to the current directory are saved as output."
   ]
  },
  {
   "cell_type": "code",
   "execution_count": 25,
   "metadata": {
    "_cell_guid": "",
    "_uuid": ""
   },
   "outputs": [],
   "source": [
    "import pandas as pd\n",
    "sample_submission = pd.read_csv(\"cat-in-the-dat-ii/sample_submission.csv\")\n",
    "test = pd.read_csv(\"cat-in-the-dat-ii/test.csv\",index_col = 'id')\n",
    "train = pd.read_csv(\"cat-in-the-dat-ii/train.csv\",index_col = 'id')"
   ]
  },
  {
   "cell_type": "code",
   "execution_count": 26,
   "metadata": {},
   "outputs": [
    {
     "data": {
      "text/html": [
       "<div>\n",
       "<style scoped>\n",
       "    .dataframe tbody tr th:only-of-type {\n",
       "        vertical-align: middle;\n",
       "    }\n",
       "\n",
       "    .dataframe tbody tr th {\n",
       "        vertical-align: top;\n",
       "    }\n",
       "\n",
       "    .dataframe thead th {\n",
       "        text-align: right;\n",
       "    }\n",
       "</style>\n",
       "<table border=\"1\" class=\"dataframe\">\n",
       "  <thead>\n",
       "    <tr style=\"text-align: right;\">\n",
       "      <th></th>\n",
       "      <th>bin_0</th>\n",
       "      <th>bin_1</th>\n",
       "      <th>bin_2</th>\n",
       "      <th>bin_3</th>\n",
       "      <th>bin_4</th>\n",
       "      <th>nom_0</th>\n",
       "      <th>nom_1</th>\n",
       "      <th>nom_2</th>\n",
       "      <th>nom_3</th>\n",
       "      <th>nom_4</th>\n",
       "      <th>...</th>\n",
       "      <th>nom_9</th>\n",
       "      <th>ord_0</th>\n",
       "      <th>ord_1</th>\n",
       "      <th>ord_2</th>\n",
       "      <th>ord_3</th>\n",
       "      <th>ord_4</th>\n",
       "      <th>ord_5</th>\n",
       "      <th>day</th>\n",
       "      <th>month</th>\n",
       "      <th>target</th>\n",
       "    </tr>\n",
       "    <tr>\n",
       "      <th>id</th>\n",
       "      <th></th>\n",
       "      <th></th>\n",
       "      <th></th>\n",
       "      <th></th>\n",
       "      <th></th>\n",
       "      <th></th>\n",
       "      <th></th>\n",
       "      <th></th>\n",
       "      <th></th>\n",
       "      <th></th>\n",
       "      <th></th>\n",
       "      <th></th>\n",
       "      <th></th>\n",
       "      <th></th>\n",
       "      <th></th>\n",
       "      <th></th>\n",
       "      <th></th>\n",
       "      <th></th>\n",
       "      <th></th>\n",
       "      <th></th>\n",
       "      <th></th>\n",
       "    </tr>\n",
       "  </thead>\n",
       "  <tbody>\n",
       "    <tr>\n",
       "      <td>0</td>\n",
       "      <td>0.0</td>\n",
       "      <td>0.0</td>\n",
       "      <td>0.0</td>\n",
       "      <td>F</td>\n",
       "      <td>N</td>\n",
       "      <td>Red</td>\n",
       "      <td>Trapezoid</td>\n",
       "      <td>Hamster</td>\n",
       "      <td>Russia</td>\n",
       "      <td>Bassoon</td>\n",
       "      <td>...</td>\n",
       "      <td>02e7c8990</td>\n",
       "      <td>3.0</td>\n",
       "      <td>Contributor</td>\n",
       "      <td>Hot</td>\n",
       "      <td>c</td>\n",
       "      <td>U</td>\n",
       "      <td>Pw</td>\n",
       "      <td>6.0</td>\n",
       "      <td>3.0</td>\n",
       "      <td>0</td>\n",
       "    </tr>\n",
       "    <tr>\n",
       "      <td>1</td>\n",
       "      <td>1.0</td>\n",
       "      <td>1.0</td>\n",
       "      <td>0.0</td>\n",
       "      <td>F</td>\n",
       "      <td>Y</td>\n",
       "      <td>Red</td>\n",
       "      <td>Star</td>\n",
       "      <td>Axolotl</td>\n",
       "      <td>NaN</td>\n",
       "      <td>Theremin</td>\n",
       "      <td>...</td>\n",
       "      <td>f37df64af</td>\n",
       "      <td>3.0</td>\n",
       "      <td>Grandmaster</td>\n",
       "      <td>Warm</td>\n",
       "      <td>e</td>\n",
       "      <td>X</td>\n",
       "      <td>pE</td>\n",
       "      <td>7.0</td>\n",
       "      <td>7.0</td>\n",
       "      <td>0</td>\n",
       "    </tr>\n",
       "    <tr>\n",
       "      <td>2</td>\n",
       "      <td>0.0</td>\n",
       "      <td>1.0</td>\n",
       "      <td>0.0</td>\n",
       "      <td>F</td>\n",
       "      <td>N</td>\n",
       "      <td>Red</td>\n",
       "      <td>NaN</td>\n",
       "      <td>Hamster</td>\n",
       "      <td>Canada</td>\n",
       "      <td>Bassoon</td>\n",
       "      <td>...</td>\n",
       "      <td>NaN</td>\n",
       "      <td>3.0</td>\n",
       "      <td>NaN</td>\n",
       "      <td>Freezing</td>\n",
       "      <td>n</td>\n",
       "      <td>P</td>\n",
       "      <td>eN</td>\n",
       "      <td>5.0</td>\n",
       "      <td>9.0</td>\n",
       "      <td>0</td>\n",
       "    </tr>\n",
       "    <tr>\n",
       "      <td>3</td>\n",
       "      <td>NaN</td>\n",
       "      <td>0.0</td>\n",
       "      <td>0.0</td>\n",
       "      <td>F</td>\n",
       "      <td>N</td>\n",
       "      <td>Red</td>\n",
       "      <td>Circle</td>\n",
       "      <td>Hamster</td>\n",
       "      <td>Finland</td>\n",
       "      <td>Theremin</td>\n",
       "      <td>...</td>\n",
       "      <td>f9d456e57</td>\n",
       "      <td>1.0</td>\n",
       "      <td>Novice</td>\n",
       "      <td>Lava Hot</td>\n",
       "      <td>a</td>\n",
       "      <td>C</td>\n",
       "      <td>NaN</td>\n",
       "      <td>3.0</td>\n",
       "      <td>3.0</td>\n",
       "      <td>0</td>\n",
       "    </tr>\n",
       "    <tr>\n",
       "      <td>4</td>\n",
       "      <td>0.0</td>\n",
       "      <td>NaN</td>\n",
       "      <td>0.0</td>\n",
       "      <td>T</td>\n",
       "      <td>N</td>\n",
       "      <td>Red</td>\n",
       "      <td>Triangle</td>\n",
       "      <td>Hamster</td>\n",
       "      <td>Costa Rica</td>\n",
       "      <td>NaN</td>\n",
       "      <td>...</td>\n",
       "      <td>c5361037c</td>\n",
       "      <td>3.0</td>\n",
       "      <td>Grandmaster</td>\n",
       "      <td>Cold</td>\n",
       "      <td>h</td>\n",
       "      <td>C</td>\n",
       "      <td>OZ</td>\n",
       "      <td>5.0</td>\n",
       "      <td>12.0</td>\n",
       "      <td>0</td>\n",
       "    </tr>\n",
       "  </tbody>\n",
       "</table>\n",
       "<p>5 rows × 24 columns</p>\n",
       "</div>"
      ],
      "text/plain": [
       "    bin_0  bin_1  bin_2 bin_3 bin_4 nom_0      nom_1    nom_2       nom_3  \\\n",
       "id                                                                          \n",
       "0     0.0    0.0    0.0     F     N   Red  Trapezoid  Hamster      Russia   \n",
       "1     1.0    1.0    0.0     F     Y   Red       Star  Axolotl         NaN   \n",
       "2     0.0    1.0    0.0     F     N   Red        NaN  Hamster      Canada   \n",
       "3     NaN    0.0    0.0     F     N   Red     Circle  Hamster     Finland   \n",
       "4     0.0    NaN    0.0     T     N   Red   Triangle  Hamster  Costa Rica   \n",
       "\n",
       "       nom_4  ...      nom_9 ord_0        ord_1     ord_2 ord_3  ord_4 ord_5  \\\n",
       "id            ...                                                              \n",
       "0    Bassoon  ...  02e7c8990   3.0  Contributor       Hot     c      U    Pw   \n",
       "1   Theremin  ...  f37df64af   3.0  Grandmaster      Warm     e      X    pE   \n",
       "2    Bassoon  ...        NaN   3.0          NaN  Freezing     n      P    eN   \n",
       "3   Theremin  ...  f9d456e57   1.0       Novice  Lava Hot     a      C   NaN   \n",
       "4        NaN  ...  c5361037c   3.0  Grandmaster      Cold     h      C    OZ   \n",
       "\n",
       "    day month target  \n",
       "id                    \n",
       "0   6.0   3.0      0  \n",
       "1   7.0   7.0      0  \n",
       "2   5.0   9.0      0  \n",
       "3   3.0   3.0      0  \n",
       "4   5.0  12.0      0  \n",
       "\n",
       "[5 rows x 24 columns]"
      ]
     },
     "execution_count": 26,
     "metadata": {},
     "output_type": "execute_result"
    }
   ],
   "source": [
    "train.head()"
   ]
  },
  {
   "cell_type": "code",
   "execution_count": 27,
   "metadata": {},
   "outputs": [
    {
     "data": {
      "application/vnd.jupyter.widget-view+json": {
       "model_id": "c32eb718c6d34331a4b0caad3ddd7558",
       "version_major": 2,
       "version_minor": 0
      },
      "text/plain": [
       "Tab(children=(HTML(value='<div id=\"overview-content\" class=\"row variable spacing\">\\n    <div class=\"row\">\\n   …"
      ]
     },
     "metadata": {},
     "output_type": "display_data"
    },
    {
     "data": {
      "text/html": [
       "Report generated with <a href=\"https://github.com/pandas-profiling/pandas-profiling\">pandas-profiling</a>."
      ],
      "text/plain": [
       "<IPython.core.display.HTML object>"
      ]
     },
     "metadata": {},
     "output_type": "display_data"
    },
    {
     "data": {
      "text/plain": []
     },
     "execution_count": 27,
     "metadata": {},
     "output_type": "execute_result"
    }
   ],
   "source": [
    "import pandas_profiling\n",
    "pandas_profiling.ProfileReport(train)"
   ]
  },
  {
   "cell_type": "code",
   "execution_count": 3,
   "metadata": {},
   "outputs": [],
   "source": [
    "#define the data sets\n",
    "#remove rows with missing target\n",
    "train.dropna(axis=0, subset=['target'], inplace=True)\n",
    "train_y=train.target\n",
    "train.drop(['target'],axis=1, inplace=True)"
   ]
  },
  {
   "cell_type": "code",
   "execution_count": 4,
   "metadata": {},
   "outputs": [
    {
     "name": "stdout",
     "output_type": "stream",
     "text": [
      "Replacing 1 values in nom_5, {'b3ad70fcb'}\n",
      "Replacing 4 values in nom_6, {'ee6983c6d', 'a885aacec', '3a121fefb', 'f0732a795'}\n",
      "Replacing 2 values in nom_9, {'1065f10dd', '3d19cd31d'}\n"
     ]
    }
   ],
   "source": [
    "#comparing the unique results in the train and test dataset.  Replacing values that do not \n",
    "#appear in the other set with value, 'xor'\n",
    "for col in train.columns.difference([\"id\"]):\n",
    "    train_vals = set(train[col].dropna().unique())\n",
    "    test_vals = set(test[col].dropna().unique())\n",
    "\n",
    "    xor_cat_vals = train_vals ^ test_vals\n",
    "    if xor_cat_vals:\n",
    "        print(f\"Replacing {len(xor_cat_vals)} values in {col}, {xor_cat_vals}\")\n",
    "        train.loc[train[col].isin(xor_cat_vals), col] = \"xor\"\n",
    "        test.loc[test[col].isin(xor_cat_vals), col] = \"xor\""
   ]
  },
  {
   "cell_type": "code",
   "execution_count": 125,
   "metadata": {},
   "outputs": [
    {
     "name": "stdout",
     "output_type": "stream",
     "text": [
      "**Variable Description of  train Data:**\n",
      "Dataset Shape: (600000, 23)\n"
     ]
    },
    {
     "data": {
      "text/html": [
       "<div>\n",
       "<style scoped>\n",
       "    .dataframe tbody tr th:only-of-type {\n",
       "        vertical-align: middle;\n",
       "    }\n",
       "\n",
       "    .dataframe tbody tr th {\n",
       "        vertical-align: top;\n",
       "    }\n",
       "\n",
       "    .dataframe thead th {\n",
       "        text-align: right;\n",
       "    }\n",
       "</style>\n",
       "<table border=\"1\" class=\"dataframe\">\n",
       "  <thead>\n",
       "    <tr style=\"text-align: right;\">\n",
       "      <th></th>\n",
       "      <th>Name</th>\n",
       "      <th>dtypes</th>\n",
       "      <th>Missing</th>\n",
       "      <th>PercMissing</th>\n",
       "      <th>Uniques</th>\n",
       "      <th>First Value</th>\n",
       "      <th>Second Value</th>\n",
       "      <th>Third Value</th>\n",
       "    </tr>\n",
       "  </thead>\n",
       "  <tbody>\n",
       "    <tr>\n",
       "      <td>0</td>\n",
       "      <td>bin_0</td>\n",
       "      <td>float64</td>\n",
       "      <td>17894</td>\n",
       "      <td>0.029823</td>\n",
       "      <td>2</td>\n",
       "      <td>0</td>\n",
       "      <td>1</td>\n",
       "      <td>0</td>\n",
       "    </tr>\n",
       "    <tr>\n",
       "      <td>1</td>\n",
       "      <td>bin_1</td>\n",
       "      <td>float64</td>\n",
       "      <td>18003</td>\n",
       "      <td>0.030005</td>\n",
       "      <td>2</td>\n",
       "      <td>0</td>\n",
       "      <td>1</td>\n",
       "      <td>1</td>\n",
       "    </tr>\n",
       "    <tr>\n",
       "      <td>2</td>\n",
       "      <td>bin_2</td>\n",
       "      <td>float64</td>\n",
       "      <td>17930</td>\n",
       "      <td>0.029883</td>\n",
       "      <td>2</td>\n",
       "      <td>0</td>\n",
       "      <td>0</td>\n",
       "      <td>0</td>\n",
       "    </tr>\n",
       "    <tr>\n",
       "      <td>3</td>\n",
       "      <td>bin_3</td>\n",
       "      <td>object</td>\n",
       "      <td>18014</td>\n",
       "      <td>0.030023</td>\n",
       "      <td>2</td>\n",
       "      <td>F</td>\n",
       "      <td>F</td>\n",
       "      <td>F</td>\n",
       "    </tr>\n",
       "    <tr>\n",
       "      <td>4</td>\n",
       "      <td>bin_4</td>\n",
       "      <td>object</td>\n",
       "      <td>18047</td>\n",
       "      <td>0.030078</td>\n",
       "      <td>2</td>\n",
       "      <td>N</td>\n",
       "      <td>Y</td>\n",
       "      <td>N</td>\n",
       "    </tr>\n",
       "    <tr>\n",
       "      <td>5</td>\n",
       "      <td>nom_0</td>\n",
       "      <td>object</td>\n",
       "      <td>18252</td>\n",
       "      <td>0.030420</td>\n",
       "      <td>3</td>\n",
       "      <td>Red</td>\n",
       "      <td>Red</td>\n",
       "      <td>Red</td>\n",
       "    </tr>\n",
       "    <tr>\n",
       "      <td>6</td>\n",
       "      <td>nom_1</td>\n",
       "      <td>object</td>\n",
       "      <td>18156</td>\n",
       "      <td>0.030260</td>\n",
       "      <td>6</td>\n",
       "      <td>Trapezoid</td>\n",
       "      <td>Star</td>\n",
       "      <td>NaN</td>\n",
       "    </tr>\n",
       "    <tr>\n",
       "      <td>7</td>\n",
       "      <td>nom_2</td>\n",
       "      <td>object</td>\n",
       "      <td>18035</td>\n",
       "      <td>0.030058</td>\n",
       "      <td>6</td>\n",
       "      <td>Hamster</td>\n",
       "      <td>Axolotl</td>\n",
       "      <td>Hamster</td>\n",
       "    </tr>\n",
       "    <tr>\n",
       "      <td>8</td>\n",
       "      <td>nom_3</td>\n",
       "      <td>object</td>\n",
       "      <td>18121</td>\n",
       "      <td>0.030202</td>\n",
       "      <td>6</td>\n",
       "      <td>Russia</td>\n",
       "      <td>NaN</td>\n",
       "      <td>Canada</td>\n",
       "    </tr>\n",
       "    <tr>\n",
       "      <td>9</td>\n",
       "      <td>nom_4</td>\n",
       "      <td>object</td>\n",
       "      <td>18035</td>\n",
       "      <td>0.030058</td>\n",
       "      <td>4</td>\n",
       "      <td>Bassoon</td>\n",
       "      <td>Theremin</td>\n",
       "      <td>Bassoon</td>\n",
       "    </tr>\n",
       "    <tr>\n",
       "      <td>10</td>\n",
       "      <td>nom_5</td>\n",
       "      <td>object</td>\n",
       "      <td>17778</td>\n",
       "      <td>0.029630</td>\n",
       "      <td>1220</td>\n",
       "      <td>de4c57ee2</td>\n",
       "      <td>2bb3c3e5c</td>\n",
       "      <td>b574c9841</td>\n",
       "    </tr>\n",
       "    <tr>\n",
       "      <td>11</td>\n",
       "      <td>nom_6</td>\n",
       "      <td>object</td>\n",
       "      <td>18131</td>\n",
       "      <td>0.030218</td>\n",
       "      <td>1517</td>\n",
       "      <td>a64bc7ddf</td>\n",
       "      <td>3a3a936e8</td>\n",
       "      <td>708248125</td>\n",
       "    </tr>\n",
       "    <tr>\n",
       "      <td>12</td>\n",
       "      <td>nom_7</td>\n",
       "      <td>object</td>\n",
       "      <td>18003</td>\n",
       "      <td>0.030005</td>\n",
       "      <td>222</td>\n",
       "      <td>598080a91</td>\n",
       "      <td>1dddb8473</td>\n",
       "      <td>5ddc9a726</td>\n",
       "    </tr>\n",
       "    <tr>\n",
       "      <td>13</td>\n",
       "      <td>nom_8</td>\n",
       "      <td>object</td>\n",
       "      <td>17755</td>\n",
       "      <td>0.029592</td>\n",
       "      <td>222</td>\n",
       "      <td>0256c7a4b</td>\n",
       "      <td>52ead350c</td>\n",
       "      <td>745b909d1</td>\n",
       "    </tr>\n",
       "    <tr>\n",
       "      <td>14</td>\n",
       "      <td>nom_9</td>\n",
       "      <td>object</td>\n",
       "      <td>18073</td>\n",
       "      <td>0.030122</td>\n",
       "      <td>2217</td>\n",
       "      <td>02e7c8990</td>\n",
       "      <td>f37df64af</td>\n",
       "      <td>NaN</td>\n",
       "    </tr>\n",
       "    <tr>\n",
       "      <td>15</td>\n",
       "      <td>ord_0</td>\n",
       "      <td>float64</td>\n",
       "      <td>18288</td>\n",
       "      <td>0.030480</td>\n",
       "      <td>3</td>\n",
       "      <td>3</td>\n",
       "      <td>3</td>\n",
       "      <td>3</td>\n",
       "    </tr>\n",
       "    <tr>\n",
       "      <td>16</td>\n",
       "      <td>ord_1</td>\n",
       "      <td>object</td>\n",
       "      <td>18041</td>\n",
       "      <td>0.030068</td>\n",
       "      <td>5</td>\n",
       "      <td>Contributor</td>\n",
       "      <td>Grandmaster</td>\n",
       "      <td>NaN</td>\n",
       "    </tr>\n",
       "    <tr>\n",
       "      <td>17</td>\n",
       "      <td>ord_2</td>\n",
       "      <td>object</td>\n",
       "      <td>18075</td>\n",
       "      <td>0.030125</td>\n",
       "      <td>6</td>\n",
       "      <td>Hot</td>\n",
       "      <td>Warm</td>\n",
       "      <td>Freezing</td>\n",
       "    </tr>\n",
       "    <tr>\n",
       "      <td>18</td>\n",
       "      <td>ord_3</td>\n",
       "      <td>object</td>\n",
       "      <td>17916</td>\n",
       "      <td>0.029860</td>\n",
       "      <td>15</td>\n",
       "      <td>c</td>\n",
       "      <td>e</td>\n",
       "      <td>n</td>\n",
       "    </tr>\n",
       "    <tr>\n",
       "      <td>19</td>\n",
       "      <td>ord_4</td>\n",
       "      <td>object</td>\n",
       "      <td>17930</td>\n",
       "      <td>0.029883</td>\n",
       "      <td>26</td>\n",
       "      <td>U</td>\n",
       "      <td>X</td>\n",
       "      <td>P</td>\n",
       "    </tr>\n",
       "    <tr>\n",
       "      <td>20</td>\n",
       "      <td>ord_5</td>\n",
       "      <td>object</td>\n",
       "      <td>17713</td>\n",
       "      <td>0.029522</td>\n",
       "      <td>190</td>\n",
       "      <td>Pw</td>\n",
       "      <td>pE</td>\n",
       "      <td>eN</td>\n",
       "    </tr>\n",
       "    <tr>\n",
       "      <td>21</td>\n",
       "      <td>day</td>\n",
       "      <td>float64</td>\n",
       "      <td>17952</td>\n",
       "      <td>0.029920</td>\n",
       "      <td>7</td>\n",
       "      <td>6</td>\n",
       "      <td>7</td>\n",
       "      <td>5</td>\n",
       "    </tr>\n",
       "    <tr>\n",
       "      <td>22</td>\n",
       "      <td>month</td>\n",
       "      <td>float64</td>\n",
       "      <td>17988</td>\n",
       "      <td>0.029980</td>\n",
       "      <td>12</td>\n",
       "      <td>3</td>\n",
       "      <td>7</td>\n",
       "      <td>9</td>\n",
       "    </tr>\n",
       "  </tbody>\n",
       "</table>\n",
       "</div>"
      ],
      "text/plain": [
       "     Name   dtypes  Missing  PercMissing  Uniques  First Value Second Value  \\\n",
       "0   bin_0  float64    17894     0.029823        2            0            1   \n",
       "1   bin_1  float64    18003     0.030005        2            0            1   \n",
       "2   bin_2  float64    17930     0.029883        2            0            0   \n",
       "3   bin_3   object    18014     0.030023        2            F            F   \n",
       "4   bin_4   object    18047     0.030078        2            N            Y   \n",
       "5   nom_0   object    18252     0.030420        3          Red          Red   \n",
       "6   nom_1   object    18156     0.030260        6    Trapezoid         Star   \n",
       "7   nom_2   object    18035     0.030058        6      Hamster      Axolotl   \n",
       "8   nom_3   object    18121     0.030202        6       Russia          NaN   \n",
       "9   nom_4   object    18035     0.030058        4      Bassoon     Theremin   \n",
       "10  nom_5   object    17778     0.029630     1220    de4c57ee2    2bb3c3e5c   \n",
       "11  nom_6   object    18131     0.030218     1517    a64bc7ddf    3a3a936e8   \n",
       "12  nom_7   object    18003     0.030005      222    598080a91    1dddb8473   \n",
       "13  nom_8   object    17755     0.029592      222    0256c7a4b    52ead350c   \n",
       "14  nom_9   object    18073     0.030122     2217    02e7c8990    f37df64af   \n",
       "15  ord_0  float64    18288     0.030480        3            3            3   \n",
       "16  ord_1   object    18041     0.030068        5  Contributor  Grandmaster   \n",
       "17  ord_2   object    18075     0.030125        6          Hot         Warm   \n",
       "18  ord_3   object    17916     0.029860       15            c            e   \n",
       "19  ord_4   object    17930     0.029883       26            U            X   \n",
       "20  ord_5   object    17713     0.029522      190           Pw           pE   \n",
       "21    day  float64    17952     0.029920        7            6            7   \n",
       "22  month  float64    17988     0.029980       12            3            7   \n",
       "\n",
       "   Third Value  \n",
       "0            0  \n",
       "1            1  \n",
       "2            0  \n",
       "3            F  \n",
       "4            N  \n",
       "5          Red  \n",
       "6          NaN  \n",
       "7      Hamster  \n",
       "8       Canada  \n",
       "9      Bassoon  \n",
       "10   b574c9841  \n",
       "11   708248125  \n",
       "12   5ddc9a726  \n",
       "13   745b909d1  \n",
       "14         NaN  \n",
       "15           3  \n",
       "16         NaN  \n",
       "17    Freezing  \n",
       "18           n  \n",
       "19           P  \n",
       "20          eN  \n",
       "21           5  \n",
       "22           9  "
      ]
     },
     "execution_count": 125,
     "metadata": {},
     "output_type": "execute_result"
    }
   ],
   "source": [
    "'''Variable Description'''\n",
    "def description(df):\n",
    "    print(f\"Dataset Shape: {df.shape}\")\n",
    "    summary = pd.DataFrame(df.dtypes,columns=['dtypes'])\n",
    "    summary = summary.reset_index()\n",
    "    summary['Name'] = summary['index']\n",
    "    summary = summary[['Name','dtypes']]\n",
    "    summary['Missing'] = df.isnull().sum().values\n",
    "    summary['PercMissing'] = df.isnull().sum().values / df.isnull().count().values\n",
    "    summary['Uniques'] = df.nunique().values\n",
    "    summary['First Value'] = df.iloc[0].values\n",
    "    summary['Second Value'] = df.iloc[1].values\n",
    "    summary['Third Value'] = df.iloc[2].values\n",
    "    return summary\n",
    "print('**Variable Description of  train Data:**')\n",
    "description(train)"
   ]
  },
  {
   "cell_type": "code",
   "execution_count": 5,
   "metadata": {},
   "outputs": [],
   "source": [
    "#Fill in the missing values with mode\n",
    "columns = train.columns\n",
    "for c in columns:\n",
    "    train[c].fillna(train[c].mode()[0],inplace=True)\n",
    "    test[c].fillna(test[c].mode()[0],inplace=True)\n"
   ]
  },
  {
   "cell_type": "code",
   "execution_count": 6,
   "metadata": {},
   "outputs": [
    {
     "name": "stdout",
     "output_type": "stream",
     "text": [
      "bin_3 ['F' 'T'] \n",
      "\n",
      "bin_4 ['N' 'Y'] \n",
      "\n",
      "ord_1 ['Contributor' 'Grandmaster' 'Novice' 'Expert' 'Master'] \n",
      "\n",
      "ord_2 ['Hot' 'Warm' 'Freezing' 'Lava Hot' 'Cold' 'Boiling Hot'] \n",
      "\n"
     ]
    }
   ],
   "source": [
    "#list the columns to be used for label encoding\n",
    "columns_to_ord = ['bin_3','bin_4','ord_1', 'ord_2']\n",
    "for col in columns_to_ord:\n",
    "    print('{}'.format(col), train[col].unique(),'\\n' )\n"
   ]
  },
  {
   "cell_type": "code",
   "execution_count": 7,
   "metadata": {},
   "outputs": [],
   "source": [
    "#Create the dictionaries used to replace the string value with an integer value\n",
    "dict_bin_3 = {'T':1, 'F':0}\n",
    "dict_bin_4 = {'Y': 1, 'N':0}\n",
    "dict_ord_1 = {'Novice':1,'Contributor':2,'Expert':3,'Master':4,'Grandmaster':5, }\n",
    "dict_ord_2 = {'Freezing':1,'Cold':2,'Warm':3,'Hot':4,'Boiling Hot':5,'Lava Hot':6}"
   ]
  },
  {
   "cell_type": "code",
   "execution_count": 8,
   "metadata": {},
   "outputs": [],
   "source": [
    "#replace both the train and test data\n",
    "dict_list=[dict_bin_3, dict_bin_4,dict_ord_1,dict_ord_2]\n",
    "cols = ['bin_3','bin_4','ord_1', 'ord_2']\n",
    "for i in range(0,len(cols)):\n",
    "    col = cols[i]\n",
    "    d = dict_list[i]\n",
    "    train[col]=train[col].replace(d)\n",
    "    test[col]=test[col].replace(d)"
   ]
  },
  {
   "cell_type": "code",
   "execution_count": 9,
   "metadata": {},
   "outputs": [],
   "source": [
    "#Change month and day to string and category encode below\n",
    "train.month=train.month.apply(lambda x: str(x))\n",
    "train.day=train.day.apply(lambda x: str(x))\n",
    "test.month=test.month.apply(lambda x: str(x))\n",
    "test.day=test.day.apply(lambda x: str(x))"
   ]
  },
  {
   "cell_type": "code",
   "execution_count": 10,
   "metadata": {},
   "outputs": [],
   "source": [
    "cat_feat_to_encode=list(train.select_dtypes(include='object').columns)"
   ]
  },
  {
   "cell_type": "code",
   "execution_count": 12,
   "metadata": {},
   "outputs": [],
   "source": [
    "import category_encoders as ce\n",
    "smoothing = 0.2\n",
    "oof = pd.DataFrame([])\n",
    "from sklearn.model_selection import StratifiedKFold\n",
    "for tr_idx, oof_idx in StratifiedKFold(n_splits=5, random_state=2020, shuffle=True).split(train, train_y):\n",
    "    ce_target_encoder = ce.TargetEncoder(cols = cat_feat_to_encode, smoothing=smoothing)\n",
    "    ce_target_encoder.fit(train.iloc[tr_idx, :], train_y.iloc[tr_idx])\n",
    "    oof = oof.append(ce_target_encoder.transform(train.iloc[oof_idx, :]), ignore_index=False)\n",
    "ce_target_encoder = ce.TargetEncoder(cols = cat_feat_to_encode, smoothing=smoothing)\n",
    "ce_target_encoder.fit(train, train_y);  train = oof.sort_index(); test = ce_target_encoder.transform(test)"
   ]
  },
  {
   "cell_type": "code",
   "execution_count": 13,
   "metadata": {},
   "outputs": [],
   "source": [
    "#Create the data set to train and test the model\n",
    "from sklearn.model_selection import train_test_split\n",
    "X_train, X_test, y_train, y_test = train_test_split(train, train_y, test_size=0.3, random_state=42)"
   ]
  },
  {
   "cell_type": "markdown",
   "metadata": {},
   "source": [
    "Testing Random Forest Classifier and performing parameter selection."
   ]
  },
  {
   "cell_type": "code",
   "execution_count": 14,
   "metadata": {},
   "outputs": [],
   "source": [
    "from sklearn.ensemble import RandomForestClassifier\n",
    "from sklearn import metrics\n",
    "from sklearn.model_selection import GridSearchCV"
   ]
  },
  {
   "cell_type": "code",
   "execution_count": 16,
   "metadata": {},
   "outputs": [
    {
     "name": "stdout",
     "output_type": "stream",
     "text": [
      "{'max_features': 0.4, 'min_samples_leaf': 2, 'n_estimators': 200, 'random_state': 42}\n"
     ]
    }
   ],
   "source": [
    "rf6 = RandomForestClassifier()\n",
    "params = {\n",
    "    'max_features': [0.4, 5, 10],\n",
    "    'n_estimators': [100, 200],\n",
    "    'min_samples_leaf': [1,2],\n",
    "    'random_state':[42],\n",
    "}\n",
    "cv = GridSearchCV(\n",
    "rf6, params, n_jobs=-1).fit(X_train, y_train)\n",
    "print(cv.best_params_)"
   ]
  },
  {
   "cell_type": "markdown",
   "metadata": {},
   "source": [
    "Copy the original cleaned data set and process using resample.  The target column is weighted on the target = 0 side.  Resampling will create an even distributed of 1's and 0's."
   ]
  },
  {
   "cell_type": "code",
   "execution_count": 17,
   "metadata": {},
   "outputs": [],
   "source": [
    "dffull = pd.concat([train, train_y])"
   ]
  },
  {
   "cell_type": "code",
   "execution_count": 24,
   "metadata": {},
   "outputs": [],
   "source": [
    "train_y['target']=train_y"
   ]
  },
  {
   "cell_type": "code",
   "execution_count": 13,
   "metadata": {},
   "outputs": [
    {
     "data": {
      "text/html": [
       "<div>\n",
       "<style scoped>\n",
       "    .dataframe tbody tr th:only-of-type {\n",
       "        vertical-align: middle;\n",
       "    }\n",
       "\n",
       "    .dataframe tbody tr th {\n",
       "        vertical-align: top;\n",
       "    }\n",
       "\n",
       "    .dataframe thead th {\n",
       "        text-align: right;\n",
       "    }\n",
       "</style>\n",
       "<table border=\"1\" class=\"dataframe\">\n",
       "  <thead>\n",
       "    <tr style=\"text-align: right;\">\n",
       "      <th></th>\n",
       "      <th>bin_0</th>\n",
       "      <th>bin_1</th>\n",
       "      <th>bin_2</th>\n",
       "      <th>bin_3</th>\n",
       "      <th>bin_4</th>\n",
       "      <th>nom_0</th>\n",
       "      <th>nom_1</th>\n",
       "      <th>nom_2</th>\n",
       "      <th>nom_3</th>\n",
       "      <th>nom_4</th>\n",
       "      <th>...</th>\n",
       "      <th>nom_9</th>\n",
       "      <th>ord_0</th>\n",
       "      <th>ord_1</th>\n",
       "      <th>ord_2</th>\n",
       "      <th>ord_3</th>\n",
       "      <th>ord_4</th>\n",
       "      <th>ord_5</th>\n",
       "      <th>day</th>\n",
       "      <th>month</th>\n",
       "      <th>target</th>\n",
       "    </tr>\n",
       "    <tr>\n",
       "      <th>id</th>\n",
       "      <th></th>\n",
       "      <th></th>\n",
       "      <th></th>\n",
       "      <th></th>\n",
       "      <th></th>\n",
       "      <th></th>\n",
       "      <th></th>\n",
       "      <th></th>\n",
       "      <th></th>\n",
       "      <th></th>\n",
       "      <th></th>\n",
       "      <th></th>\n",
       "      <th></th>\n",
       "      <th></th>\n",
       "      <th></th>\n",
       "      <th></th>\n",
       "      <th></th>\n",
       "      <th></th>\n",
       "      <th></th>\n",
       "      <th></th>\n",
       "      <th></th>\n",
       "    </tr>\n",
       "  </thead>\n",
       "  <tbody>\n",
       "    <tr>\n",
       "      <td>0</td>\n",
       "      <td>0.0</td>\n",
       "      <td>0.0</td>\n",
       "      <td>0.0</td>\n",
       "      <td>0</td>\n",
       "      <td>0</td>\n",
       "      <td>0.183161</td>\n",
       "      <td>0.224364</td>\n",
       "      <td>0.169130</td>\n",
       "      <td>0.219119</td>\n",
       "      <td>0.208137</td>\n",
       "      <td>...</td>\n",
       "      <td>0.158824</td>\n",
       "      <td>3.0</td>\n",
       "      <td>2</td>\n",
       "      <td>4</td>\n",
       "      <td>0.114332</td>\n",
       "      <td>0.223733</td>\n",
       "      <td>0.145339</td>\n",
       "      <td>0.200839</td>\n",
       "      <td>0.146486</td>\n",
       "      <td>0</td>\n",
       "    </tr>\n",
       "    <tr>\n",
       "      <td>1</td>\n",
       "      <td>1.0</td>\n",
       "      <td>1.0</td>\n",
       "      <td>0.0</td>\n",
       "      <td>0</td>\n",
       "      <td>1</td>\n",
       "      <td>0.183161</td>\n",
       "      <td>0.130122</td>\n",
       "      <td>0.201132</td>\n",
       "      <td>0.165718</td>\n",
       "      <td>0.179435</td>\n",
       "      <td>...</td>\n",
       "      <td>0.143204</td>\n",
       "      <td>3.0</td>\n",
       "      <td>5</td>\n",
       "      <td>3</td>\n",
       "      <td>0.134617</td>\n",
       "      <td>0.234159</td>\n",
       "      <td>0.237785</td>\n",
       "      <td>0.212760</td>\n",
       "      <td>0.208616</td>\n",
       "      <td>0</td>\n",
       "    </tr>\n",
       "    <tr>\n",
       "      <td>2</td>\n",
       "      <td>0.0</td>\n",
       "      <td>1.0</td>\n",
       "      <td>0.0</td>\n",
       "      <td>0</td>\n",
       "      <td>0</td>\n",
       "      <td>0.183161</td>\n",
       "      <td>0.159930</td>\n",
       "      <td>0.169130</td>\n",
       "      <td>0.158044</td>\n",
       "      <td>0.208137</td>\n",
       "      <td>...</td>\n",
       "      <td>0.190030</td>\n",
       "      <td>3.0</td>\n",
       "      <td>1</td>\n",
       "      <td>1</td>\n",
       "      <td>0.269553</td>\n",
       "      <td>0.200635</td>\n",
       "      <td>0.214833</td>\n",
       "      <td>0.163350</td>\n",
       "      <td>0.211561</td>\n",
       "      <td>0</td>\n",
       "    </tr>\n",
       "    <tr>\n",
       "      <td>3</td>\n",
       "      <td>0.0</td>\n",
       "      <td>0.0</td>\n",
       "      <td>0.0</td>\n",
       "      <td>0</td>\n",
       "      <td>0</td>\n",
       "      <td>0.183307</td>\n",
       "      <td>0.179869</td>\n",
       "      <td>0.170040</td>\n",
       "      <td>0.179773</td>\n",
       "      <td>0.179714</td>\n",
       "      <td>...</td>\n",
       "      <td>0.262295</td>\n",
       "      <td>1.0</td>\n",
       "      <td>1</td>\n",
       "      <td>6</td>\n",
       "      <td>0.092533</td>\n",
       "      <td>0.138102</td>\n",
       "      <td>0.165279</td>\n",
       "      <td>0.164827</td>\n",
       "      <td>0.146925</td>\n",
       "      <td>0</td>\n",
       "    </tr>\n",
       "    <tr>\n",
       "      <td>4</td>\n",
       "      <td>0.0</td>\n",
       "      <td>0.0</td>\n",
       "      <td>0.0</td>\n",
       "      <td>1</td>\n",
       "      <td>0</td>\n",
       "      <td>0.183272</td>\n",
       "      <td>0.160088</td>\n",
       "      <td>0.169792</td>\n",
       "      <td>0.202740</td>\n",
       "      <td>0.179884</td>\n",
       "      <td>...</td>\n",
       "      <td>0.251641</td>\n",
       "      <td>3.0</td>\n",
       "      <td>5</td>\n",
       "      <td>2</td>\n",
       "      <td>0.181226</td>\n",
       "      <td>0.140080</td>\n",
       "      <td>0.165629</td>\n",
       "      <td>0.162757</td>\n",
       "      <td>0.224777</td>\n",
       "      <td>0</td>\n",
       "    </tr>\n",
       "  </tbody>\n",
       "</table>\n",
       "<p>5 rows × 24 columns</p>\n",
       "</div>"
      ],
      "text/plain": [
       "    bin_0  bin_1  bin_2  bin_3  bin_4     nom_0     nom_1     nom_2     nom_3  \\\n",
       "id                                                                              \n",
       "0     0.0    0.0    0.0      0      0  0.183161  0.224364  0.169130  0.219119   \n",
       "1     1.0    1.0    0.0      0      1  0.183161  0.130122  0.201132  0.165718   \n",
       "2     0.0    1.0    0.0      0      0  0.183161  0.159930  0.169130  0.158044   \n",
       "3     0.0    0.0    0.0      0      0  0.183307  0.179869  0.170040  0.179773   \n",
       "4     0.0    0.0    0.0      1      0  0.183272  0.160088  0.169792  0.202740   \n",
       "\n",
       "       nom_4  ...     nom_9  ord_0  ord_1  ord_2     ord_3     ord_4  \\\n",
       "id            ...                                                      \n",
       "0   0.208137  ...  0.158824    3.0      2      4  0.114332  0.223733   \n",
       "1   0.179435  ...  0.143204    3.0      5      3  0.134617  0.234159   \n",
       "2   0.208137  ...  0.190030    3.0      1      1  0.269553  0.200635   \n",
       "3   0.179714  ...  0.262295    1.0      1      6  0.092533  0.138102   \n",
       "4   0.179884  ...  0.251641    3.0      5      2  0.181226  0.140080   \n",
       "\n",
       "       ord_5       day     month  target  \n",
       "id                                        \n",
       "0   0.145339  0.200839  0.146486       0  \n",
       "1   0.237785  0.212760  0.208616       0  \n",
       "2   0.214833  0.163350  0.211561       0  \n",
       "3   0.165279  0.164827  0.146925       0  \n",
       "4   0.165629  0.162757  0.224777       0  \n",
       "\n",
       "[5 rows x 24 columns]"
      ]
     },
     "execution_count": 13,
     "metadata": {},
     "output_type": "execute_result"
    }
   ],
   "source": [
    "data=train.copy()\n",
    "data['target']=train_y\n",
    "data.head()"
   ]
  },
  {
   "cell_type": "code",
   "execution_count": 14,
   "metadata": {},
   "outputs": [
    {
     "data": {
      "text/plain": [
       "1    487677\n",
       "0    487677\n",
       "Name: target, dtype: int64"
      ]
     },
     "execution_count": 14,
     "metadata": {},
     "output_type": "execute_result"
    }
   ],
   "source": [
    "from sklearn.utils import resample\n",
    "mask = data.target == 1\n",
    "yes_df = data[mask]\n",
    "no_df = data[~mask]\n",
    "df_upsample = resample(\n",
    "yes_df, \n",
    "replace=True,\n",
    "n_samples=len(no_df),\n",
    "random_state = 42,\n",
    ")\n",
    "df2 = pd.concat([no_df, df_upsample])\n",
    "df2.target.value_counts()"
   ]
  },
  {
   "cell_type": "markdown",
   "metadata": {},
   "source": [
    "# Comparing the original dataset with the resampled data set."
   ]
  },
  {
   "cell_type": "code",
   "execution_count": 15,
   "metadata": {},
   "outputs": [],
   "source": [
    "df2_y=df2.target\n",
    "df2.drop(['target'],axis=1, inplace=True)\n",
    "df2_y=df2_y.astype('int64')"
   ]
  },
  {
   "cell_type": "code",
   "execution_count": 19,
   "metadata": {},
   "outputs": [],
   "source": [
    "from sklearn.model_selection import train_test_split\n",
    "X_train2, X_test2, y_train2, y_test2 = train_test_split(df2, df2_y, test_size=0.3, random_state=42)"
   ]
  },
  {
   "cell_type": "markdown",
   "metadata": {},
   "source": [
    "The original cleaned data is X_train, X_test, y_train, y_test<br>\n",
    "The resampled is X_train2, X_test2, y_train2, y_test2.<br>\n",
    "Will run a simple Random Forest Regressor and compare results."
   ]
  },
  {
   "cell_type": "code",
   "execution_count": 36,
   "metadata": {},
   "outputs": [
    {
     "data": {
      "text/plain": [
       "RandomForestClassifier(bootstrap=True, ccp_alpha=0.0, class_weight=None,\n",
       "                       criterion='gini', max_depth=None, max_features='auto',\n",
       "                       max_leaf_nodes=None, max_samples=None,\n",
       "                       min_impurity_decrease=0.0, min_impurity_split=None,\n",
       "                       min_samples_leaf=1, min_samples_split=2,\n",
       "                       min_weight_fraction_leaf=0.0, n_estimators=100,\n",
       "                       n_jobs=None, oob_score=False, random_state=42, verbose=0,\n",
       "                       warm_start=False)"
      ]
     },
     "execution_count": 36,
     "metadata": {},
     "output_type": "execute_result"
    }
   ],
   "source": [
    "from sklearn.ensemble import RandomForestClassifier\n",
    "rf_1=RandomForestClassifier(n_estimators = 100, random_state=42)\n",
    "rf_1.fit(X_train, y_train)\n"
   ]
  },
  {
   "cell_type": "code",
   "execution_count": 37,
   "metadata": {},
   "outputs": [
    {
     "data": {
      "text/plain": [
       "0.8206166666666667"
      ]
     },
     "execution_count": 37,
     "metadata": {},
     "output_type": "execute_result"
    }
   ],
   "source": [
    "rf_1.score(X_test,y_test)\n"
   ]
  },
  {
   "cell_type": "code",
   "execution_count": 38,
   "metadata": {},
   "outputs": [
    {
     "data": {
      "text/plain": [
       "0.6371481405383193"
      ]
     },
     "execution_count": 38,
     "metadata": {},
     "output_type": "execute_result"
    }
   ],
   "source": [
    "from sklearn import metrics\n",
    "metrics.precision_score(y_test, rf_1.predict(X_test))"
   ]
  },
  {
   "cell_type": "code",
   "execution_count": 64,
   "metadata": {},
   "outputs": [
    {
     "data": {
      "text/plain": [
       "RandomForestClassifier(bootstrap=True, ccp_alpha=0.0, class_weight=None,\n",
       "                       criterion='gini', max_depth=None, max_features='auto',\n",
       "                       max_leaf_nodes=None, max_samples=None,\n",
       "                       min_impurity_decrease=0.0, min_impurity_split=None,\n",
       "                       min_samples_leaf=1, min_samples_split=2,\n",
       "                       min_weight_fraction_leaf=0.0, n_estimators=100,\n",
       "                       n_jobs=None, oob_score=False, random_state=42, verbose=0,\n",
       "                       warm_start=False)"
      ]
     },
     "execution_count": 64,
     "metadata": {},
     "output_type": "execute_result"
    }
   ],
   "source": [
    "rf_2=RandomForestClassifier(n_estimators = 100, random_state=42)\n",
    "rf_2.fit(X_train2, y_train2)\n"
   ]
  },
  {
   "cell_type": "code",
   "execution_count": 65,
   "metadata": {},
   "outputs": [
    {
     "data": {
      "text/plain": [
       "0.9491844009200053"
      ]
     },
     "execution_count": 65,
     "metadata": {},
     "output_type": "execute_result"
    }
   ],
   "source": [
    "rf_2.score(X_test2,y_test2)"
   ]
  },
  {
   "cell_type": "code",
   "execution_count": 66,
   "metadata": {},
   "outputs": [
    {
     "data": {
      "text/plain": [
       "0.9340218736147041"
      ]
     },
     "execution_count": 66,
     "metadata": {},
     "output_type": "execute_result"
    }
   ],
   "source": [
    "metrics.precision_score(y_test2, rf_2.predict(X_test2))"
   ]
  },
  {
   "cell_type": "markdown",
   "metadata": {},
   "source": [
    "The resampled data performed better.  Run the Random Forest Classifier model to search for best params.<br>  Then use these to make a submission.  "
   ]
  },
  {
   "cell_type": "code",
   "execution_count": 68,
   "metadata": {},
   "outputs": [
    {
     "name": "stdout",
     "output_type": "stream",
     "text": [
      "{'max_features': 1, 'min_samples_leaf': 1, 'n_estimators': 200, 'random_state': 42}\n"
     ]
    }
   ],
   "source": [
    "rf7 = RandomForestClassifier()\n",
    "params = {\n",
    "    'max_features': [0.4,1,'auto'],\n",
    "    'n_estimators': [100, 200],\n",
    "    'min_samples_leaf': [1,2],\n",
    "    'random_state':[42],\n",
    "}\n",
    "cv = GridSearchCV(\n",
    "rf7, params, n_jobs=-1).fit(X_train2, y_train2)\n",
    "print(cv.best_params_)"
   ]
  },
  {
   "cell_type": "code",
   "execution_count": 70,
   "metadata": {},
   "outputs": [
    {
     "data": {
      "text/plain": [
       "RandomForestClassifier(bootstrap=True, ccp_alpha=0.0, class_weight=None,\n",
       "                       criterion='gini', max_depth=None, max_features=1,\n",
       "                       max_leaf_nodes=None, max_samples=None,\n",
       "                       min_impurity_decrease=0.0, min_impurity_split=None,\n",
       "                       min_samples_leaf=1, min_samples_split=2,\n",
       "                       min_weight_fraction_leaf=0.0, n_estimators=200,\n",
       "                       n_jobs=None, oob_score=False, random_state=42, verbose=0,\n",
       "                       warm_start=False)"
      ]
     },
     "execution_count": 70,
     "metadata": {},
     "output_type": "execute_result"
    }
   ],
   "source": [
    "model_rf_resx = RandomForestClassifier(max_features = 1, min_samples_leaf = 1, \n",
    "                                      n_estimators = 200, random_state=42)\n",
    "model_rf_resx.fit(df2, df2_y)"
   ]
  },
  {
   "cell_type": "code",
   "execution_count": 71,
   "metadata": {},
   "outputs": [],
   "source": [
    "pred_rf_resx=model_rf_resx.predict(test)"
   ]
  },
  {
   "cell_type": "code",
   "execution_count": 72,
   "metadata": {},
   "outputs": [],
   "source": [
    "output=pd.DataFrame({'Id':test.index, 'Target':pred_rf_resx})\n",
    "output.to_csv('submission8.csv', index=False)"
   ]
  },
  {
   "cell_type": "code",
   "execution_count": 73,
   "metadata": {},
   "outputs": [
    {
     "data": {
      "text/plain": [
       "RandomForestRegressor(bootstrap=True, ccp_alpha=0.0, criterion='mse',\n",
       "                      max_depth=None, max_features='auto', max_leaf_nodes=None,\n",
       "                      max_samples=None, min_impurity_decrease=0.0,\n",
       "                      min_impurity_split=None, min_samples_leaf=1,\n",
       "                      min_samples_split=2, min_weight_fraction_leaf=0.0,\n",
       "                      n_estimators=100, n_jobs=None, oob_score=False,\n",
       "                      random_state=0, verbose=0, warm_start=False)"
      ]
     },
     "execution_count": 73,
     "metadata": {},
     "output_type": "execute_result"
    }
   ],
   "source": [
    "from sklearn.ensemble import RandomForestRegressor\n",
    "# from sklearn.metrics import roc_auc_score\n",
    "\n",
    "model_rf_r = RandomForestRegressor(n_estimators = 100, random_state=0)\n",
    "model_rf_r.fit(df2, df2_y)"
   ]
  },
  {
   "cell_type": "code",
   "execution_count": 74,
   "metadata": {},
   "outputs": [],
   "source": [
    "pred_rf_r=model_rf_r.predict(test)"
   ]
  },
  {
   "cell_type": "code",
   "execution_count": 75,
   "metadata": {},
   "outputs": [],
   "source": [
    "output=pd.DataFrame({'Id':test.index, 'Target':pred_rf_r})\n",
    "output.to_csv('submission9.csv', index=False)"
   ]
  },
  {
   "cell_type": "markdown",
   "metadata": {},
   "source": [
    "Random Forest Regressor with the resampled data gave better results on the Kaggle leaderboard than the Random Forest Classifier.  "
   ]
  },
  {
   "cell_type": "markdown",
   "metadata": {},
   "source": [
    "Rerunning Random Forest Regressor with n_estimators = 200 to further improve score."
   ]
  },
  {
   "cell_type": "code",
   "execution_count": 22,
   "metadata": {},
   "outputs": [
    {
     "data": {
      "text/plain": [
       "RandomForestRegressor(bootstrap=True, ccp_alpha=0.0, criterion='mse',\n",
       "                      max_depth=None, max_features='auto', max_leaf_nodes=None,\n",
       "                      max_samples=None, min_impurity_decrease=0.0,\n",
       "                      min_impurity_split=None, min_samples_leaf=1,\n",
       "                      min_samples_split=2, min_weight_fraction_leaf=0.0,\n",
       "                      n_estimators=200, n_jobs=None, oob_score=False,\n",
       "                      random_state=0, verbose=0, warm_start=False)"
      ]
     },
     "execution_count": 22,
     "metadata": {},
     "output_type": "execute_result"
    }
   ],
   "source": [
    "from sklearn.ensemble import RandomForestRegressor\n",
    "# from sklearn.metrics import roc_auc_score\n",
    "\n",
    "model_rf_r2 = RandomForestRegressor(n_estimators = 200, random_state=0)\n",
    "model_rf_r2.fit(df2, df2_y)"
   ]
  },
  {
   "cell_type": "code",
   "execution_count": 23,
   "metadata": {},
   "outputs": [],
   "source": [
    "pred_rf_r2=model_rf_r2.predict(test)"
   ]
  },
  {
   "cell_type": "code",
   "execution_count": 24,
   "metadata": {},
   "outputs": [],
   "source": [
    "output=pd.DataFrame({'Id':test.index, 'Target':pred_rf_r2})\n",
    "output.to_csv('submission10.csv', index=False)"
   ]
  },
  {
   "cell_type": "code",
   "execution_count": null,
   "metadata": {},
   "outputs": [],
   "source": []
  }
 ],
 "metadata": {
  "kernelspec": {
   "display_name": "Python 3",
   "language": "python",
   "name": "python3"
  },
  "language_info": {
   "codemirror_mode": {
    "name": "ipython",
    "version": 3
   },
   "file_extension": ".py",
   "mimetype": "text/x-python",
   "name": "python",
   "nbconvert_exporter": "python",
   "pygments_lexer": "ipython3",
   "version": "3.7.4"
  }
 },
 "nbformat": 4,
 "nbformat_minor": 1
}
